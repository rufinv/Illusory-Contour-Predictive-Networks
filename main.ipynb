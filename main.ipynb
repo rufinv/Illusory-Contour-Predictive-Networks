{
 "cells": [
  {
   "cell_type": "markdown",
   "metadata": {},
   "source": [
    "# Predictive coding feedback results in perceived illusory contours in a recurrent neural network\n",
    "------------"
   ]
  },
  {
   "cell_type": "markdown",
   "metadata": {},
   "source": [
    "### Step1: Show classification results"
   ]
  },
  {
   "cell_type": "markdown",
   "metadata": {},
   "source": [
    "**Get the results**"
   ]
  },
  {
   "cell_type": "code",
   "execution_count": 1,
   "metadata": {
    "scrolled": true
   },
   "outputs": [
    {
     "name": "stdout",
     "output_type": "stream",
     "text": [
      "batch 1/120\n",
      "batch 2/120\n",
      "batch 3/120\n",
      "batch 4/120\n",
      "batch 5/120\n",
      "batch 6/120\n",
      "batch 7/120\n",
      "batch 8/120\n",
      "batch 9/120\n",
      "batch 10/120\n",
      "batch 11/120\n",
      "batch 12/120\n",
      "batch 13/120\n",
      "batch 14/120\n",
      "batch 15/120\n",
      "batch 16/120\n",
      "batch 17/120\n",
      "batch 18/120\n",
      "batch 19/120\n",
      "batch 20/120\n",
      "batch 21/120\n",
      "batch 22/120\n",
      "batch 23/120\n",
      "batch 24/120\n",
      "batch 25/120\n",
      "batch 26/120\n",
      "batch 27/120\n",
      "batch 28/120\n",
      "batch 29/120\n",
      "batch 30/120\n",
      "batch 31/120\n",
      "batch 32/120\n",
      "batch 33/120\n",
      "batch 34/120\n",
      "batch 35/120\n",
      "batch 36/120\n",
      "batch 37/120\n",
      "batch 38/120\n",
      "batch 39/120\n",
      "batch 40/120\n",
      "batch 41/120\n",
      "batch 42/120\n",
      "batch 43/120\n",
      "batch 44/120\n",
      "batch 45/120\n",
      "batch 46/120\n",
      "batch 47/120\n",
      "batch 48/120\n",
      "batch 49/120\n",
      "batch 50/120\n",
      "batch 51/120\n",
      "batch 52/120\n",
      "batch 53/120\n",
      "batch 54/120\n",
      "batch 55/120\n",
      "batch 56/120\n",
      "batch 57/120\n",
      "batch 58/120\n",
      "batch 59/120\n",
      "batch 60/120\n",
      "batch 61/120\n",
      "batch 62/120\n",
      "batch 63/120\n",
      "batch 64/120\n",
      "batch 65/120\n",
      "batch 66/120\n",
      "batch 67/120\n",
      "batch 68/120\n",
      "batch 69/120\n",
      "batch 70/120\n",
      "batch 71/120\n",
      "batch 72/120\n",
      "batch 73/120\n",
      "batch 74/120\n",
      "batch 75/120\n",
      "batch 76/120\n",
      "batch 77/120\n",
      "batch 78/120\n",
      "batch 79/120\n",
      "batch 80/120\n",
      "batch 81/120\n",
      "batch 82/120\n",
      "batch 83/120\n",
      "batch 84/120\n",
      "batch 85/120\n",
      "batch 86/120\n",
      "batch 87/120\n",
      "batch 88/120\n",
      "batch 89/120\n",
      "batch 90/120\n",
      "batch 91/120\n",
      "batch 92/120\n",
      "batch 93/120\n",
      "batch 94/120\n",
      "batch 95/120\n",
      "batch 96/120\n",
      "batch 97/120\n",
      "batch 98/120\n",
      "batch 99/120\n",
      "batch 100/120\n",
      "batch 101/120\n",
      "batch 102/120\n",
      "batch 103/120\n",
      "batch 104/120\n",
      "batch 105/120\n",
      "batch 106/120\n",
      "batch 107/120\n",
      "batch 108/120\n",
      "batch 109/120\n",
      "batch 110/120\n",
      "batch 111/120\n",
      "batch 112/120\n",
      "batch 113/120\n",
      "batch 114/120\n",
      "batch 115/120\n",
      "batch 116/120\n",
      "batch 117/120\n",
      "batch 118/120\n",
      "batch 119/120\n",
      "batch 120/120\n",
      "torch.Size([1200, 100])\n",
      "Training complete in 4m  22s\n"
     ]
    }
   ],
   "source": [
    "import os\n",
    "import sys\n",
    "import torch\n",
    "os.environ[\"CUDA_DEVICE_ORDER\"]=\"PCI_BUS_ID\"\n",
    "os.environ[\"CUDA_VISIBLE_DEVICES\"]= \"1\" \n",
    "device = torch.device(\"cuda:0\" if torch.cuda.is_available() else \"cpu\")\n",
    "sys.path.append('/home/zhaoyang/Desktop/Proj_1PCoder/github/my_scripts') # change the root accordingly\n",
    "from scripts.classification import classification\n",
    "\n",
    "\n",
    "batch      = 40\n",
    "saveroot   = f'./results/prob_net11.pth'\n",
    "dataroot   = './data/illusory0.1/test.txt'\n",
    "checkpoint = torch.load(f'./train/train2_net11_ep24.pth') # load the finetuned netowrk\n",
    "\n",
    "classification(device,checkpoint,dataroot,batch,saveroot)"
   ]
  },
  {
   "cell_type": "markdown",
   "metadata": {},
   "source": [
    "**Plot the results**"
   ]
  },
  {
   "cell_type": "code",
   "execution_count": 2,
   "metadata": {
    "scrolled": true
   },
   "outputs": [
    {
     "name": "stderr",
     "output_type": "stream",
     "text": [
      "\n",
      "Bad key \"text.kerning_factor\" on line 4 in\n",
      "/home/zhaoyang/anaconda3/envs/pytorch/lib/python3.6/site-packages/matplotlib/mpl-data/stylelib/_classic_test_patch.mplstyle.\n",
      "You probably need to get an updated matplotlibrc file from\n",
      "https://github.com/matplotlib/matplotlib/blob/v3.1.3/matplotlibrc.template\n",
      "or from the matplotlib source distribution\n"
     ]
    },
    {
     "name": "stdout",
     "output_type": "stream",
     "text": [
      "0.6201474\n"
     ]
    },
    {
     "data": {
      "image/png": "[encoded data removed]",
      "text/plain": [
       "<Figure size 432x288 with 1 Axes>"
      ]
     },
     "metadata": {
      "needs_background": "light"
     },
     "output_type": "display_data"
    }
   ],
   "source": [
    "import sys\n",
    "import torch\n",
    "sys.path.append('/home/zhaoyang/Desktop/Proj_1PCoder/github/my_scripts')\n",
    "from scripts.plotting import plotting_class\n",
    "\n",
    "img_num=1200  # the number of each testing class\n",
    "saveflag = True\n",
    "prob_square = torch.load(f'results/prob_net11.pth') \n",
    "saveroot = f'pic/decision_net11.pdf'\n",
    "\n",
    "plotting_class(prob_square,saveflag,saveroot,img_num)"
   ]
  },
  {
   "cell_type": "markdown",
   "metadata": {},
   "source": [
    "### Step2: Show FG results"
   ]
  },
  {
   "cell_type": "code",
   "execution_count": 1,
   "metadata": {
    "scrolled": true
   },
   "outputs": [
    {
     "name": "stdout",
     "output_type": "stream",
     "text": [
      "batch 1/120\n",
      "batch 2/120\n",
      "batch 3/120\n",
      "batch 4/120\n",
      "batch 5/120\n",
      "batch 6/120\n",
      "batch 7/120\n",
      "batch 8/120\n",
      "batch 9/120\n",
      "batch 10/120\n",
      "batch 11/120\n",
      "batch 12/120\n",
      "batch 13/120\n",
      "batch 14/120\n",
      "batch 15/120\n",
      "batch 16/120\n",
      "batch 17/120\n",
      "batch 18/120\n",
      "batch 19/120\n",
      "batch 20/120\n",
      "batch 21/120\n",
      "batch 22/120\n",
      "batch 23/120\n",
      "batch 24/120\n",
      "batch 25/120\n",
      "batch 26/120\n",
      "batch 27/120\n",
      "batch 28/120\n",
      "batch 29/120\n",
      "batch 30/120\n",
      "batch 31/120\n",
      "batch 32/120\n",
      "batch 33/120\n",
      "batch 34/120\n",
      "batch 35/120\n",
      "batch 36/120\n",
      "batch 37/120\n",
      "batch 38/120\n",
      "batch 39/120\n",
      "batch 40/120\n",
      "batch 41/120\n",
      "batch 42/120\n",
      "batch 43/120\n",
      "batch 44/120\n",
      "batch 45/120\n",
      "batch 46/120\n",
      "batch 47/120\n",
      "batch 48/120\n",
      "batch 49/120\n",
      "batch 50/120\n",
      "batch 51/120\n",
      "batch 52/120\n",
      "batch 53/120\n",
      "batch 54/120\n",
      "batch 55/120\n",
      "batch 56/120\n",
      "batch 57/120\n",
      "batch 58/120\n",
      "batch 59/120\n",
      "batch 60/120\n",
      "batch 61/120\n",
      "batch 62/120\n",
      "batch 63/120\n",
      "batch 64/120\n",
      "batch 65/120\n",
      "batch 66/120\n",
      "batch 67/120\n",
      "batch 68/120\n",
      "batch 69/120\n",
      "batch 70/120\n",
      "batch 71/120\n",
      "batch 72/120\n",
      "batch 73/120\n",
      "batch 74/120\n",
      "batch 75/120\n",
      "batch 76/120\n",
      "batch 77/120\n",
      "batch 78/120\n",
      "batch 79/120\n",
      "batch 80/120\n",
      "batch 81/120\n",
      "batch 82/120\n",
      "batch 83/120\n",
      "batch 84/120\n",
      "batch 85/120\n",
      "batch 86/120\n",
      "batch 87/120\n",
      "batch 88/120\n",
      "batch 89/120\n",
      "batch 90/120\n",
      "batch 91/120\n",
      "batch 92/120\n",
      "batch 93/120\n",
      "batch 94/120\n",
      "batch 95/120\n",
      "batch 96/120\n",
      "batch 97/120\n",
      "batch 98/120\n",
      "batch 99/120\n",
      "batch 100/120\n",
      "batch 101/120\n",
      "batch 102/120\n",
      "batch 103/120\n",
      "batch 104/120\n",
      "batch 105/120\n",
      "batch 106/120\n",
      "batch 107/120\n",
      "batch 108/120\n",
      "batch 109/120\n",
      "batch 110/120\n",
      "batch 111/120\n",
      "batch 112/120\n",
      "batch 113/120\n",
      "batch 114/120\n",
      "batch 115/120\n",
      "batch 116/120\n",
      "batch 117/120\n",
      "batch 118/120\n",
      "batch 119/120\n",
      "batch 120/120\n",
      "Training complete in 7m  31s\n"
     ]
    }
   ],
   "source": [
    "import os\n",
    "import sys\n",
    "import torch\n",
    "os.environ[\"CUDA_DEVICE_ORDER\"]=\"PCI_BUS_ID\"\n",
    "os.environ[\"CUDA_VISIBLE_DEVICES\"]= \"1\" \n",
    "device = torch.device(\"cuda:0\" if torch.cuda.is_available() else \"cpu\")\n",
    "sys.path.append('/home/zhaoyang/Desktop/Proj_1PCoder/github/my_scripts') \n",
    "from scripts.fgvalue import fg_compute\n",
    "\n",
    "\n",
    "batch_size = 40\n",
    "img_num    = 1200\n",
    "test_root  = f'./data/illusory0.1/test.txt'\n",
    "\n",
    "checkpoint = torch.load(f'./train/train2_net11_ep24.pth') # load the finetuned netowrk\n",
    "savepath = f'results/FG_net11.pth'\n",
    "fg_compute(device,checkpoint,test_root,batch_size,img_num,savepath)  "
   ]
  },
  {
   "cell_type": "code",
   "execution_count": 2,
   "metadata": {
    "scrolled": true
   },
   "outputs": [
    {
     "name": "stderr",
     "output_type": "stream",
     "text": [
      "\n",
      "Bad key \"text.kerning_factor\" on line 4 in\n",
      "/home/zhaoyang/anaconda3/envs/pytorch/lib/python3.6/site-packages/matplotlib/mpl-data/stylelib/_classic_test_patch.mplstyle.\n",
      "You probably need to get an updated matplotlibrc file from\n",
      "https://github.com/matplotlib/matplotlib/blob/v3.1.3/matplotlibrc.template\n",
      "or from the matplotlib source distribution\n"
     ]
    },
    {
     "data": {
      "image/png": "[encoded data removed]",
      "text/plain": [
       "<Figure size 432x288 with 1 Axes>"
      ]
     },
     "metadata": {
      "needs_background": "light"
     },
     "output_type": "display_data"
    }
   ],
   "source": [
    "import sys\n",
    "sys.path.append('/home/zhaoyang/Desktop/Proj_1PCoder/github/my_scripts')\n",
    "from scripts.plotting import plotting_fg\n",
    "\n",
    "test_noise = 0.1\n",
    "img_num    = 1200\n",
    "saveflag   = True\n",
    "\n",
    "saveroot   = f'pic/FG_net11.pdf'\n",
    "checkpoint = torch.load(f'results/FG_net11.pth')\n",
    "\n",
    "plotting_fg(checkpoint,saveflag,saveroot,img_num)"
   ]
  },
  {
   "cell_type": "code",
   "execution_count": null,
   "metadata": {},
   "outputs": [],
   "source": []
  }
 ],
 "metadata": {
  "kernelspec": {
   "display_name": "Python 3",
   "language": "python",
   "name": "python3"
  },
  "language_info": {
   "codemirror_mode": {
    "name": "ipython",
    "version": 3
   },
   "file_extension": ".py",
   "mimetype": "text/x-python",
   "name": "python",
   "nbconvert_exporter": "python",
   "pygments_lexer": "ipython3",
   "version": "3.6.10"
  }
 },
 "nbformat": 4,
 "nbformat_minor": 4
}
